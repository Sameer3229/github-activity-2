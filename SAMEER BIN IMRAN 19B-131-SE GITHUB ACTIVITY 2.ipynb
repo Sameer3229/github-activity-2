{
 "cells": [
  {
   "cell_type": "markdown",
   "metadata": {},
   "source": [
    "# Python User Define Function Practice Activity - 2 "
   ]
  },
  {
   "cell_type": "markdown",
   "metadata": {},
   "source": [
    "Asst. Prof. Syed Faisal Ali              $\\;\\;\\;\\;\\;\\;$              Programming Fundamentals - FALL 2019 $\\;\\;\\;\\;\\;\\;$ Software Engineering                     $\\;\\;\\;\\;\\;\\;$                   Dated: 27 Nov 2019"
   ]
  },
  {
   "cell_type": "markdown",
   "metadata": {},
   "source": [
    "Question 1: Create a function to find the following:\n",
    "If the base of triangle is 3 cm long and its equilateral triangle and the radius of circle is 1.5 cm then find the area of triangle shaded. \n"
   ]
  },
  {
   "cell_type": "markdown",
   "metadata": {},
   "source": [
    "![proj](q1.jpg)"
   ]
  },
  {
   "cell_type": "code",
   "execution_count": 1,
   "metadata": {},
   "outputs": [
    {
     "data": {
      "text/plain": [
       "7.5"
      ]
     },
     "execution_count": 1,
     "metadata": {},
     "output_type": "execute_result"
    }
   ],
   "source": [
    "def area(b,r):\n",
    "    h=b*r/2\n",
    "    return h\n",
    "area(5,3)"
   ]
  },
  {
   "cell_type": "markdown",
   "metadata": {},
   "source": [
    "Question 2: Create a function which can read a dictionary of your family members such as 5 members. \n",
    "1 Abbu, 1 Ammi, 2 Brothers 1 Sister. Now feed this data in dictionary in terms of name and relations.\n",
    "The UDF will ask findrelation() in this you will enter Brother it will return the names of two brothers you have inserted. In case if the relation is not found it will return “Sorry the relation doesn’t exist in your family.” \n"
   ]
  },
  {
   "cell_type": "code",
   "execution_count": 2,
   "metadata": {},
   "outputs": [
    {
     "data": {
      "text/plain": [
       "'ali,usman'"
      ]
     },
     "execution_count": 2,
     "metadata": {},
     "output_type": "execute_result"
    }
   ],
   "source": [
    "def findrelation(d):\n",
    "    dict = {'father':'imran' , 'brother':'ali,usman' , 'sister':'laiba' , 'mother':'shabnan'}\n",
    "    a = dict[d]\n",
    "    return a\n",
    "findrelation('brother')"
   ]
  },
  {
   "cell_type": "markdown",
   "metadata": {},
   "source": [
    "Question 3: Create a function to find the following:\n",
    "If the base of triangle is 5 cm long and its equilateral triangle and the radius of circle is 2.25 cm then find the area of triangle shaded. \n"
   ]
  },
  {
   "cell_type": "markdown",
   "metadata": {},
   "source": [
    "![proj](q3.jpg)"
   ]
  },
  {
   "cell_type": "code",
   "execution_count": 4,
   "metadata": {},
   "outputs": [
    {
     "data": {
      "text/plain": [
       "21.217622392718745"
      ]
     },
     "execution_count": 4,
     "metadata": {},
     "output_type": "execute_result"
    }
   ],
   "source": [
    "import math\n",
    "def tri(b):\n",
    "    h=b**2*((math.sqrt(3))/4)\n",
    "    return(h)\n",
    "tri(7)"
   ]
  },
  {
   "cell_type": "markdown",
   "metadata": {},
   "source": [
    "Question 4:\n",
    "Create a function that takes a list of random numbers from users and add only those which are even. If all the numbers are odd it will return sorry no even number found.\n"
   ]
  },
  {
   "cell_type": "code",
   "execution_count": 7,
   "metadata": {},
   "outputs": [
    {
     "name": "stdout",
     "output_type": "stream",
     "text": [
      "No even found!\n",
      "2\n",
      "sum of even no: 2\n",
      "4\n",
      "sum of even no: 6\n",
      "No even found!\n",
      "6\n",
      "sum of even no: 12\n",
      "No even found!\n",
      "8\n",
      "sum of even no: 20\n",
      "10\n",
      "sum of even no: 30\n",
      "None\n"
     ]
    }
   ],
   "source": [
    "def even(l):\n",
    "    f=0\n",
    "    for i in l:\n",
    "        if i%2==0:\n",
    "            print(i)\n",
    "            f = f+i\n",
    "            print(\"sum of even no:\",f)\n",
    "        else:\n",
    "            print(\"No even found!\")\n",
    "print(even([1,2,4,5,6,7,8,10]))"
   ]
  },
  {
   "cell_type": "markdown",
   "metadata": {},
   "source": [
    "Question 5:\n",
    "Write a function which can take a list of numbers and it will return sorted list.\n"
   ]
  },
  {
   "cell_type": "code",
   "execution_count": 8,
   "metadata": {},
   "outputs": [
    {
     "name": "stdout",
     "output_type": "stream",
     "text": [
      "['3', '4', '5', '8']\n"
     ]
    }
   ],
   "source": [
    "def renew(s):\n",
    "    return sorted(s)\n",
    "print (renew(['8','5','4','3']))"
   ]
  },
  {
   "cell_type": "markdown",
   "metadata": {},
   "source": [
    "Question 6:\n",
    "Write a function that will take the radius and return the perimeter and area of circle with 5% increment.\n"
   ]
  },
  {
   "cell_type": "code",
   "execution_count": 9,
   "metadata": {},
   "outputs": [
    {
     "name": "stdout",
     "output_type": "stream",
     "text": [
      "Perimeter 31.41592653589793\n",
      "Area of Circle: 82.46680715673207\n",
      "\n"
     ]
    }
   ],
   "source": [
    "from math import pi\n",
    "def areaofcircle(r):\n",
    "    area=pi*(r**2)\n",
    "    m = area+(area*0.05)\n",
    "    print(\"Perimeter\",2*pi*r)\n",
    "    print(\"Area of Circle:\",m)\n",
    "    return \"\"\n",
    "print(areaofcircle(5))"
   ]
  },
  {
   "cell_type": "code",
   "execution_count": 17,
   "metadata": {},
   "outputs": [
    {
     "data": {
      "text/plain": [
       "(113.09733552923255, 37.69911184307752)"
      ]
     },
     "execution_count": 17,
     "metadata": {},
     "output_type": "execute_result"
    }
   ],
   "source": [
    "from math import pi\n",
    "def radius(r):\n",
    "    area=pi*r**2\n",
    "    perimeter=2*pi*r\n",
    "    return(area,perimeter)\n",
    "radius(6)"
   ]
  },
  {
   "cell_type": "markdown",
   "metadata": {},
   "source": [
    "Question 7:\n",
    "Write a function that will take the strings as argument and return number of vowels and consonants.\n"
   ]
  },
  {
   "cell_type": "code",
   "execution_count": 10,
   "metadata": {},
   "outputs": [
    {
     "data": {
      "text/plain": [
       "(113.09733552923255, 37.69911184307752)"
      ]
     },
     "execution_count": 10,
     "metadata": {},
     "output_type": "execute_result"
    }
   ],
   "source": [
    "def st(vc):\n",
    "    countv = 0\n",
    "    countc = 0\n",
    "    for i in s:\n",
    "        if i in \"AEIOU\" or i in \"aeiou\":\n",
    "            countv += 1\n",
    "        else:\n",
    "            countc += 1\n",
    "    print(\"Numbers of vowels:\",countv)\n",
    "    print(\"Numbers of consonants:\",countc)\n",
    "st('zohaib')"
   ]
  },
  {
   "cell_type": "markdown",
   "metadata": {},
   "source": [
    "Question 8:\n",
    "Write a function that will take length and breadth for a rectangle and return perimeter and area of rectangle with 8% increment.\n"
   ]
  },
  {
   "cell_type": "code",
   "execution_count": 18,
   "metadata": {},
   "outputs": [
    {
     "name": "stdout",
     "output_type": "stream",
     "text": [
      "area of rectangle: 37.8\n",
      "perimeter: 24\n"
     ]
    }
   ],
   "source": [
    "from math import pi\n",
    "def rec(l,b):\n",
    "    area=l*b\n",
    "    a=area+(area*0.08)\n",
    "    print(\"area of rectangle:\",a)\n",
    "    print(\"perimeter:\",2*(l+b))\n",
    "rec(5,7)"
   ]
  },
  {
   "cell_type": "markdown",
   "metadata": {},
   "source": [
    "Question 9:\n",
    "Write a function that can take the numbers in strings. From string find which number is even and which one is odd. Save them in two different lists and generate the result.\n"
   ]
  },
  {
   "cell_type": "code",
   "execution_count": 21,
   "metadata": {},
   "outputs": [
    {
     "name": "stdout",
     "output_type": "stream",
     "text": [
      "Numbers of Even : 4\n",
      "Numbers of odd: 5\n",
      "List of even: ['8', '6', '4', '2']\n",
      "List of odd: ['9', '7', '5', '3', '1']\n"
     ]
    }
   ],
   "source": [
    "f = \"987654321\"\n",
    "s = 0\n",
    "o = 0\n",
    "sl = []\n",
    "ol = []\n",
    "for i in f:\n",
    "    if int(i)%2==0:\n",
    "        s += 1\n",
    "        sl.append(i)\n",
    "    else:\n",
    "        o += 1\n",
    "        ol.append(i)\n",
    "print('Numbers of Even :',s)\n",
    "print('Numbers of odd:',o)\n",
    "print(\"List of even:\",sl)\n",
    "print(\"List of odd:\",ol)"
   ]
  },
  {
   "cell_type": "markdown",
   "metadata": {},
   "source": [
    "Question 10:\n",
    "Write a function which will take the string from the user and return how many alphabets have been used in it and which alphabets are missing.\n"
   ]
  },
  {
   "cell_type": "code",
   "execution_count": 22,
   "metadata": {},
   "outputs": [
    {
     "name": "stdout",
     "output_type": "stream",
     "text": [
      "5\n",
      "bcdfghijklnopqtuvwxyz\n"
     ]
    }
   ],
   "source": [
    "f = 'sameer'\n",
    "n = 0\n",
    "fs = 'abcdefghijklmnopqrstuvwxyz'\n",
    "for i in f:\n",
    "    if i in fs:\n",
    "        fs = fs.replace(i,\"\")\n",
    "        n += 1\n",
    "print(n)\n",
    "#\n",
    "print(fs)"
   ]
  },
  {
   "cell_type": "markdown",
   "metadata": {},
   "source": [
    "Question 11:\n",
    "Write a function that will take verbs in words and return a list of verbs with continuous tense by adding (ing) at the end of each verb.\n"
   ]
  },
  {
   "cell_type": "code",
   "execution_count": 23,
   "metadata": {},
   "outputs": [
    {
     "name": "stdout",
     "output_type": "stream",
     "text": [
      "verb riding\n"
     ]
    }
   ],
   "source": [
    "def verb(s):\n",
    "    if s[-1] == 'e':\n",
    "        s = s.replace(s[-1],\"\")\n",
    "        print(\"verb\",s+\"ing\")\n",
    "    else:\n",
    "        print(\"verb\",s+\"ing\")\n",
    "verb('ride')"
   ]
  },
  {
   "cell_type": "markdown",
   "metadata": {},
   "source": [
    "Question 12:\n",
    "Make a function which can take two radius of circles and find the areas of it and subtract smaller one from larger one and tell the remaining area of circle.\n"
   ]
  },
  {
   "cell_type": "code",
   "execution_count": 27,
   "metadata": {},
   "outputs": [
    {
     "name": "stdout",
     "output_type": "stream",
     "text": [
      "7539.822368615503\n"
     ]
    }
   ],
   "source": [
    "from math import pi\n",
    "def cc(r,rr):\n",
    "    a = pi*(r**2)\n",
    "    aa = pi*(rr**2)\n",
    "    if a > aa:\n",
    "        fa = (aa - a)\n",
    "    else:\n",
    "        fa = (a - aa)\n",
    "    return abs(fa)\n",
    "print(cc(50,10))"
   ]
  },
  {
   "cell_type": "markdown",
   "metadata": {},
   "source": [
    "Question 13:\n",
    "Write a function that will take a string and calculate number of Upper case letters and lower case letters.\n"
   ]
  },
  {
   "cell_type": "code",
   "execution_count": 31,
   "metadata": {},
   "outputs": [
    {
     "name": "stdout",
     "output_type": "stream",
     "text": [
      "5 1\n",
      "None\n"
     ]
    }
   ],
   "source": [
    "def bv(s):\n",
    "    l = 'abcdefghijklmnopqrstuvwxyz'\n",
    "    u = 'ABCDEFGHIJKLMNOPQRSTUVWXYZ'\n",
    "    n1 = 0\n",
    "    n2 = 0\n",
    "    for i in s:\n",
    "        if i in u:\n",
    "            n1 = n1+1\n",
    "        if i in l:\n",
    "            n2 = n2+1\n",
    "    print(n2,n1)\n",
    "print(bv(\"Sampoo\"))"
   ]
  },
  {
   "cell_type": "markdown",
   "metadata": {},
   "source": [
    "Question 14:\n",
    "Write a function which will take length and breadth of two rectangles. Subtract the smaller rectangle from the larger rectangle and return the area left behind.\n"
   ]
  },
  {
   "cell_type": "code",
   "execution_count": 32,
   "metadata": {},
   "outputs": [
    {
     "name": "stdout",
     "output_type": "stream",
     "text": [
      "40\n"
     ]
    }
   ],
   "source": [
    "def cc(l,b,ll,bb):\n",
    "    a = l*b\n",
    "    aa = ll*bb\n",
    "    if a > aa:\n",
    "        fa = (aa - a)\n",
    "    else:\n",
    "        fa = (a - aa)\n",
    "    return abs(fa)\n",
    "print(cc(5,2,5,10))"
   ]
  },
  {
   "cell_type": "markdown",
   "metadata": {},
   "source": [
    "Question 15:\n",
    "Create a function that can add the fractions in series such as 1 to 8 = 1/8+1/7+1/6+1/5 …… ½ and return the result in fraction not in decimal.\n"
   ]
  },
  {
   "cell_type": "code",
   "execution_count": 12,
   "metadata": {},
   "outputs": [
    {
     "name": "stdout",
     "output_type": "stream",
     "text": [
      "answer: 481/280\n"
     ]
    }
   ],
   "source": [
    "from fractions import Fraction\n",
    "def fraction(i,n):\n",
    "    fr = 0\n",
    "    for num in range(i,n+1):\n",
    "        fr = fr + Fraction(1,num)\n",
    "    return fr\n",
    "print(\"answer:\",fraction(2,8))"
   ]
  },
  {
   "cell_type": "markdown",
   "metadata": {},
   "source": [
    "Question 16:\n",
    "Write a function which will take height and base for a triangle and \n"
   ]
  },
  {
   "cell_type": "code",
   "execution_count": null,
   "metadata": {},
   "outputs": [],
   "source": []
  },
  {
   "cell_type": "markdown",
   "metadata": {},
   "source": [
    "Question 17:\n",
    "Write a function which will take a list of fruits names. The function will return how many alphabets are repetitive in the names of fruits and how many are unique letters.\n"
   ]
  },
  {
   "cell_type": "code",
   "execution_count": 10,
   "metadata": {},
   "outputs": [
    {
     "name": "stdout",
     "output_type": "stream",
     "text": [
      "unique: 5\n",
      "repeat letters: 0\n",
      "\n"
     ]
    }
   ],
   "source": [
    "def fru(sf):\n",
    "    e = 0\n",
    "    v = 0\n",
    "    fe = len(sf)\n",
    "    for i in sf:\n",
    "        l = sf.count(i)\n",
    "        m= sf.replace(i,\"\")\n",
    "        if l>1:\n",
    "            v = v + l\n",
    "            e = e + 1\n",
    "    now = fe - v\n",
    "    print(\"unique:\",now)\n",
    "    print(\"repeat letters:\",e)\n",
    "    return \"\"\n",
    "print(fru(\"mango\"))"
   ]
  },
  {
   "cell_type": "markdown",
   "metadata": {},
   "source": [
    "Question 18:\n",
    "Write a function that can take square length and radius of circle. Find the area of both and subtract the smallest shape from largest one and return the remaining shape area.\n"
   ]
  },
  {
   "cell_type": "code",
   "execution_count": 13,
   "metadata": {},
   "outputs": [
    {
     "name": "stdout",
     "output_type": "stream",
     "text": [
      "25\n",
      "78.55\n"
     ]
    },
    {
     "data": {
      "text/plain": [
       "53.55"
      ]
     },
     "execution_count": 13,
     "metadata": {},
     "output_type": "execute_result"
    }
   ],
   "source": [
    "\n",
    "def sc(l,r):\n",
    "    sa = l*l\n",
    "    ca = 3.142*(r**2)\n",
    "    print(sa)\n",
    "    print(ca)\n",
    "    if sa > ca:\n",
    "        fa = (ca - sa)\n",
    "    else:\n",
    "        fa = (sa - ca)\n",
    "    return abs(fa)  \n",
    "sc(5,5)"
   ]
  },
  {
   "cell_type": "code",
   "execution_count": null,
   "metadata": {},
   "outputs": [],
   "source": []
  }
 ],
 "metadata": {
  "kernelspec": {
   "display_name": "Python 3",
   "language": "python",
   "name": "python3"
  },
  "language_info": {
   "codemirror_mode": {
    "name": "ipython",
    "version": 3
   },
   "file_extension": ".py",
   "mimetype": "text/x-python",
   "name": "python",
   "nbconvert_exporter": "python",
   "pygments_lexer": "ipython3",
   "version": "3.7.4"
  }
 },
 "nbformat": 4,
 "nbformat_minor": 2
}
